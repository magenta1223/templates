{
 "cells": [
  {
   "cell_type": "markdown",
   "metadata": {},
   "source": [
    "# Install Library"
   ]
  },
  {
   "cell_type": "code",
   "execution_count": null,
   "metadata": {},
   "outputs": [],
   "source": [
    "!pip install wandb\n",
    "# ----- Install ----- #\n",
    "\n",
    "# ------------------- #\n",
    "!wandb login"
   ]
  },
  {
   "cell_type": "markdown",
   "metadata": {},
   "source": [
    "# Unzip files"
   ]
  },
  {
   "cell_type": "code",
   "execution_count": null,
   "metadata": {},
   "outputs": [],
   "source": [
    "# ----- Unzip Files ----- #\n",
    "# !tar -xvf '/content/drive/MyDrive/paper_implementation/Wavenet/datasets/LJSpeech-1.1.tar.bz2'\n",
    "\n",
    "# ------------------- #"
   ]
  },
  {
   "cell_type": "code",
   "execution_count": null,
   "metadata": {},
   "outputs": [],
   "source": [
    "# Load Library"
   ]
  },
  {
   "cell_type": "code",
   "execution_count": null,
   "metadata": {},
   "outputs": [],
   "source": [
    "wandb_key = 'YOUR WANDB KEY'\n",
    "\n",
    "# torch\n",
    "import torch\n",
    "import torch.nn as nn\n",
    "from torch.nn import functional as F\n",
    "from torch.utils.data import Dataset, DataLoader, RandomSampler, SequentialSampler\n",
    "\n",
    "\n",
    "\n",
    "# linear algebra\n",
    "import numpy as np\n",
    "\n",
    "# vis\n",
    "from matplotlib import pyplot as plt\n",
    "import seaborn as sns\n",
    "\n",
    "# util\n",
    "import os\n",
    "from glob import glob\n",
    "import random\n",
    "from easydict import EasyDict as edict\n",
    "import re\n",
    "import time\n",
    "import wandb\n",
    "from datetime import datetime\n",
    "import yaml\n",
    "import pandas as pd\n",
    "\n",
    "\n",
    "from dataset import *\n",
    "from utils import *\n",
    "from models import *\n",
    "from modules import *\n",
    "\n",
    "\n",
    "import warnings\n",
    "warnings.filterwarnings('ignore')\n",
    "\n",
    "\n",
    "\n",
    "# ---------------  Set Base Directory ----------------- #\n",
    "BASE_DIR = 'YOUR BASE DIRECTORY'\n",
    "os.chdir(BASE_DIR)\n",
    "os.getcwd()"
   ]
  },
  {
   "cell_type": "markdown",
   "metadata": {},
   "source": [
    "# Fit"
   ]
  },
  {
   "cell_type": "code",
   "execution_count": null,
   "metadata": {},
   "outputs": [],
   "source": [
    "with open(f\"{BASE_DIR}/hparam.yaml\") as f:\n",
    "    hparams = edict(yaml.load(f))\n",
    "\n",
    "\n",
    "hparams.save_path = '/content/drive/MyDrive/paper_implementation/Wavenet', # model save path\n",
    "\n",
    "\n",
    "dataset_train = MyDataset()\n",
    "dataset_val = MyDataset()\n",
    "\n",
    "loader_train = DataLoader(dataset_train)\n",
    "loader_val = DataLoader(dataset_val)\n",
    "\n",
    "model = MyModel(hparams).cuda()\n",
    "\n",
    "fitter = Fitter(model, hparams)\n",
    "fitter.fit(loader_train, loader_val)"
   ]
  }
 ],
 "metadata": {
  "language_info": {
   "name": "python"
  },
  "orig_nbformat": 4
 },
 "nbformat": 4,
 "nbformat_minor": 2
}
